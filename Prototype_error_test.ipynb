{
 "cells": [
  {
   "cell_type": "markdown",
   "id": "b4248ffe",
   "metadata": {},
   "source": [
    "## A prototype for testing letter reconstruction\n",
    "## under different hyper parameters"
   ]
  },
  {
   "cell_type": "code",
   "execution_count": null,
   "id": "6bb63117",
   "metadata": {
    "ExecuteTime": {
     "end_time": "2022-10-05T21:29:42.771580Z",
     "start_time": "2022-10-05T21:29:41.137779Z"
    }
   },
   "outputs": [],
   "source": [
    "%load_ext autoreload\n",
    "%autoreload 2\n",
    "import sys\n",
    "sys.path.append('Utils/')\n",
    "from Inverse_Util import inverse_obj, draw_this, inv_error\n",
    "from Image_Util import img2arr, noise, res2heatmap, getAnimation\n",
    "from Inverse_CG_Util import CG_FEM_solver, CG_ROM_solver\n",
    "import numpy as np\n",
    "import pandas as pd\n",
    "import matplotlib as plt\n",
    "from ngsolve import *\n",
    "from ngsolve.webgui import Draw\n",
    "import time\n",
    "\n",
    "plt.rc('xtick', labelsize=14)  \n",
    "plt.rc('ytick', labelsize=14)\n",
    "%reload_ext autoreload\n"
   ]
  },
  {
   "cell_type": "markdown",
   "id": "df50743b",
   "metadata": {},
   "source": [
    "## CG Test for Letter Source Term\n",
    "- $u_0 = 0$\n",
    "- Initial guess $f_0 = Sin(\\pi x) \\cdot Sin(\\pi y)$\n",
    "- Regularization $\\lambda = 10^{-6}$\n",
    "- Tolerance = $10^{-6}$\n",
    "- h = 1/32, 1/64, 1/128, 1/256, 1/512\n",
    "- $\\Delta t$ = h\n",
    "- T = 1\n",
    "- noise on observation = *Gaussian($0, 10^{-3}$)* , level = 10%"
   ]
  },
  {
   "cell_type": "code",
   "execution_count": null,
   "id": "b6b3931a",
   "metadata": {
    "ExecuteTime": {
     "end_time": "2022-10-06T00:32:26.324107Z",
     "start_time": "2022-10-06T00:32:26.288493Z"
    }
   },
   "outputs": [],
   "source": [
    "nn = [2**5, 2**6, 2**7, 2**8, 2**9]\n",
    "the_lam = 1e-7\n",
    "the_tol = 1e-7\n",
    "lams = [1e-4,1e-5,1e-6,1e-7,1e-8]\n",
    "tols = [1e-6,1e-7,1e-8,1e-9,1e-10]\n",
    "\n",
    "cg_fem = dict(); cg_rom = dict(); cg_all = dict()\n",
    "colnames =  ['h','lam','tol','ite','time','err']\n",
    "colnames_all =  ['h','lam','tol','ite_f','ite_r','time_f','time_r',\n",
    "                 'err_f','err_r','err_comp']\n",
    "cols = [np.zeros((len(nn),len(colnames))) for i in range(2)]\n",
    "cols_all = [np.zeros((len(nn),len(colnames))) for i in range(1)]"
   ]
  },
  {
   "cell_type": "code",
   "execution_count": null,
   "id": "51419a95",
   "metadata": {
    "ExecuteTime": {
     "end_time": "2022-10-06T01:42:07.258116Z",
     "start_time": "2022-10-06T01:42:05.379959Z"
    },
    "scrolled": false
   },
   "outputs": [],
   "source": [
    "idx = 2\n",
    "the_h = 1/nn[idx]\n",
    "\n",
    "path = \"Letters/CMU3{}.png\".format(nn[idx])\n",
    "Fix = 3\n",
    "\n",
    "#exact letter source input\n",
    "sou = img2arr(path, checkGray = False, checkBw = False, sqxN = Fix)\n",
    "#f0 = img2arr(path, checkGray = False, checkBw = False)\n",
    "f0 = sin(pi*x)*sin(pi*y)\n",
    "\n",
    "#struct for forward solving\n",
    "X_fem = inverse_obj(h = the_h, order = 1, dim = 1, boundary = \"bottom|left|right|top\", \n",
    "                T = 1, dt = 1/32, u0 = 0, source = sou, sqr = True)\n",
    "X_fem.get_mesh(sqxN=Fix)\n",
    "out_tmp = X_fem.solve_fem(save = True, anim = True)\n",
    "## for sol animation\n",
    "out = noise(out_tmp[:,-1],level = 0.1, std = 1e-3)\n",
    "#out = noise(out_tmp,level = 0.1, std = 1e-3)\n",
    "X_fem.fem_uT = out\n",
    "\n",
    "#displays the exact source\n",
    "#draw_this(X_fem, X_fem.sou)\n",
    "res2heatmap(sou, nn[idx], Fix*nn[idx], sqxN=Fix)"
   ]
  },
  {
   "cell_type": "code",
   "execution_count": null,
   "id": "202df235",
   "metadata": {
    "ExecuteTime": {
     "end_time": "2022-10-06T01:45:09.027057Z",
     "start_time": "2022-10-06T01:45:07.785713Z"
    },
    "scrolled": false
   },
   "outputs": [],
   "source": [
    "%matplotlib notebook\n",
    "## change fem_back_solver to output solution at all time steps\n",
    "getAnimation(out_tmp, nn[idx], Fix*nn[idx], sqxN = Fix)"
   ]
  },
  {
   "cell_type": "code",
   "execution_count": null,
   "id": "3d975a37",
   "metadata": {
    "ExecuteTime": {
     "end_time": "2022-10-06T01:53:41.585180Z",
     "start_time": "2022-10-06T01:53:41.490140Z"
    }
   },
   "outputs": [],
   "source": [
    "#displays the final time obs\n",
    "#draw_this(X_fem, out)\n",
    "res2heatmap(X_fem.fem_uT, nn[idx], Fix*nn[idx], sqxN = Fix)"
   ]
  },
  {
   "cell_type": "markdown",
   "id": "42b8330b",
   "metadata": {},
   "source": [
    "### FEM Test only"
   ]
  },
  {
   "cell_type": "code",
   "execution_count": null,
   "id": "d64cc9bb",
   "metadata": {
    "ExecuteTime": {
     "end_time": "2022-10-06T00:32:56.832365Z",
     "start_time": "2022-10-06T00:32:43.161930Z"
    }
   },
   "outputs": [],
   "source": [
    "ks = []; tms = []; errs = []\n",
    "\n",
    "for i in range(1):\n",
    "    res_fem, k, tm = CG_FEM_solver(X_fem, f0, lam = the_lam,\n",
    "                                   tol2 = the_tol, ite = True, ite_num = 0, \n",
    "                                   anim = True)\n",
    "    err = inv_error(X_fem, sou, res_fem[-1])\n",
    "    ks.append(k)\n",
    "    tms.append(tm)\n",
    "    errs.append(err)\n",
    "    \n",
    "k0 = np.mean(ks); tm0 = np.mean(tms); err0 = np.mean(errs)\n",
    "pack0 = [the_h,the_lam,the_tol,k0,tm0,err0]\n",
    "cols[0][idx, :] = np.array(pack0)\n",
    "\n",
    "#displays reconstruction\n",
    "#draw_this(X_fem, res_fem)\n",
    "res2heatmap(res_fem[-1], nn[idx], nn[idx])\n",
    "print (\"\\nCG-FEM L2-error:\", err0)\n",
    "#getAnimation(res_fem, nn[idx], nn[idx], fix = True)"
   ]
  },
  {
   "cell_type": "code",
   "execution_count": null,
   "id": "1e48f61d",
   "metadata": {
    "ExecuteTime": {
     "end_time": "2022-10-06T00:34:55.341871Z",
     "start_time": "2022-10-06T00:34:54.635781Z"
    }
   },
   "outputs": [],
   "source": [
    "a = []\n",
    "for res in res_fem:\n",
    "    a.append(inv_error(X_fem, sou, res))\n",
    "print(\"\\nmin CG-FEM L2-error:\", min(a))\n",
    "getAnimation(res_fem, nn[idx], nn[idx], fix = True)"
   ]
  },
  {
   "cell_type": "markdown",
   "id": "469bb254",
   "metadata": {},
   "source": [
    "### ROM Test only"
   ]
  },
  {
   "cell_type": "code",
   "execution_count": null,
   "id": "75fd446b",
   "metadata": {
    "ExecuteTime": {
     "end_time": "2022-10-06T00:36:28.377678Z",
     "start_time": "2022-10-06T00:36:21.798859Z"
    }
   },
   "outputs": [],
   "source": [
    "ks = []; tms = []; errs = []\n",
    "\n",
    "for i in range(1):\n",
    "    res_rom, k, tm = CG_ROM_solver(X_fem, f0, lam = the_lam,\n",
    "                                  tol2 = the_tol, ite = True, anim = True)\n",
    "    err = inv_error(X_fem, sou, res_rom[-1])\n",
    "    ks.append(k)\n",
    "    tms.append(tm)\n",
    "    errs.append(err)\n",
    "    \n",
    "k1 = np.mean(ks); tm1 = np.mean(tms); err1 = np.mean(errs)\n",
    "pack1 = [the_h,the_lam,the_tol,k1,tm1,err1]\n",
    "cols[1][idx, :] = np.array(pack1)\n",
    "\n",
    "#displays reconstruction\n",
    "#draw_this(X_fem, res_rom)\n",
    "res2heatmap(res_rom[-1], nn[idx], nn[idx])\n",
    "print (\"\\nCG-ROM L2-error:\", err1)"
   ]
  },
  {
   "cell_type": "code",
   "execution_count": null,
   "id": "0bbd90b5",
   "metadata": {
    "ExecuteTime": {
     "end_time": "2022-10-06T00:37:55.176899Z",
     "start_time": "2022-10-06T00:37:53.653457Z"
    }
   },
   "outputs": [],
   "source": [
    "a = []\n",
    "for res in res_rom:\n",
    "    a.append(inv_error(X_fem, sou, res))\n",
    "print(\"\\nmin CG-FEM L2-error:\", min(a))\n",
    "getAnimation(res_rom, nn[idx], nn[idx], fix = True)"
   ]
  },
  {
   "cell_type": "markdown",
   "id": "ad470d3e",
   "metadata": {},
   "source": [
    "# Wait until $idx = 5$"
   ]
  },
  {
   "cell_type": "code",
   "execution_count": null,
   "id": "b648e704",
   "metadata": {
    "ExecuteTime": {
     "end_time": "2022-08-04T03:40:40.641554Z",
     "start_time": "2022-08-04T03:40:40.505537Z"
    }
   },
   "outputs": [],
   "source": [
    "for i in range(6):\n",
    "    cg_fem[colnames[i]] = cols[0][:,i]\n",
    "    cg_rom[colnames[i]] = cols[1][:,i]\n",
    "cg_fem_df = pd.DataFrame(data = cg_fem)\n",
    "cg_rom_df = pd.DataFrame(data = cg_rom)\n",
    "cg_fem_df.to_csv('CMUcg_fem_df.csv')\n",
    "cg_rom_df.to_csv('CMUcg_rom_df.csv')"
   ]
  },
  {
   "cell_type": "markdown",
   "id": "c454fab4",
   "metadata": {},
   "source": [
    "## FEM+ROM Tests"
   ]
  },
  {
   "cell_type": "code",
   "execution_count": null,
   "id": "861ef89d",
   "metadata": {},
   "outputs": [],
   "source": [
    "ks_f = []; tms_f = []; errs_f = []\n",
    "ks_r = []; tms_r = []; errs_r = []\n",
    "errs_c = []\n",
    "\n",
    "for i in range(3):\n",
    "    res_fem, k_f, tm_f = CG_FEM_solver(X_fem, f0, lam = the_lam,\n",
    "                                  tol2 = the_tol, ite = True, ite_num = 0)\n",
    "    res_rom, k_r, tm_r = CG_ROM_solver(X_fem, f0, lam = the_lam, withM = True, \n",
    "                                  tol2 = the_tol, ite = True)\n",
    "    \n",
    "    err_fem = inv_error(X_fem, sou, res_fem)\n",
    "    err_rom = inv_error(X_fem, sou, res_rom)\n",
    "    err_comp = inv_error(X_fem, res_fem, res_rom)\n",
    "    \n",
    "    ks_f.append(k_f)\n",
    "    tms_f.append(tm_f)\n",
    "    errs_f.append(err_fem)\n",
    "    \n",
    "    ks_r.append(k_r)\n",
    "    tm_r.append(tm_r)\n",
    "    errs_r.append(err_rom)\n",
    "    errs_c.append(err_comp)\n",
    "    \n",
    "err01_c = np.mean(errs_c)\n",
    "k0 = np.mean(ks_f); tm0 = np.mean(tms_f); err0 = np.mean(errs_f)\n",
    "k1 = np.mean(ks_f); tm1 = np.mean(tms_f); err1 = np.mean(errs_r)\n",
    "pack_all = [the_h,the_lam,the_tol,k0,k1,tm0,tm1,err0,err1,err01_c]\n",
    "cols_all[0][idx, :] = np.array(pack_all)\n",
    "\n",
    "#displays reconstruction\n",
    "#draw_this(X_fem, res_fem)\n",
    "#res2heatmap(res_fem, nn[idx], nn[idx])\n",
    "print (\"\\nCG-FEM L2-error:\", err0)\n",
    "print (\"\\nCG-ROM L2-error:\", err1)"
   ]
  },
  {
   "cell_type": "code",
   "execution_count": null,
   "id": "bd162b01",
   "metadata": {},
   "outputs": [],
   "source": [
    "for i in range(6):\n",
    "    cg_all[colnames_all[i]] = cols_all[0][:,i]\n",
    "    #cg_rom[colnames[i]] = cols[1][:,i]\n",
    "cg_all_df = pd.DataFrame(data = cg_all)\n",
    "cg_all_df.to_csv('CMU3cg_all_df.csv')\n"
   ]
  },
  {
   "cell_type": "code",
   "execution_count": null,
   "id": "6a1d5d0b",
   "metadata": {
    "ExecuteTime": {
     "end_time": "2022-08-04T03:40:42.896043Z",
     "start_time": "2022-08-04T03:40:42.815908Z"
    },
    "scrolled": true
   },
   "outputs": [],
   "source": [
    "cg_fem_df"
   ]
  },
  {
   "cell_type": "code",
   "execution_count": null,
   "id": "a0709e50",
   "metadata": {
    "ExecuteTime": {
     "end_time": "2022-08-04T03:40:48.979234Z",
     "start_time": "2022-08-04T03:40:48.910549Z"
    }
   },
   "outputs": [],
   "source": [
    "cg_rom_df"
   ]
  },
  {
   "cell_type": "code",
   "execution_count": null,
   "id": "0979c023",
   "metadata": {
    "ExecuteTime": {
     "end_time": "2022-08-04T03:41:31.571809Z",
     "start_time": "2022-08-04T03:41:31.338089Z"
    }
   },
   "outputs": [],
   "source": [
    "diff = inv_error(X_fem, res_fem, res_rom)\n",
    "print(diff)"
   ]
  },
  {
   "cell_type": "code",
   "execution_count": null,
   "id": "9bfcd7d3",
   "metadata": {
    "ExecuteTime": {
     "end_time": "2022-08-01T05:35:23.103356Z",
     "start_time": "2022-08-01T05:26:43.740446Z"
    }
   },
   "outputs": [],
   "source": [
    "# res_bf_fem = BFGS_FEM_solver(X_fem, f0, 1, lam = 1e-6, tol2 = 1e-6, \n",
    "#                                       ite = False, ite_num = 500)\n",
    "\n",
    "# #displays reconstruction\n",
    "# draw_this(X_fem, res_bf_fem)\n",
    "# err = inv_error(X_fem, sou, res_bf_fem)\n",
    "# print (\"\\nBFGS_fem L2-error:\", err)"
   ]
  }
 ],
 "metadata": {
  "kernelspec": {
   "display_name": "Python 3 (ipykernel)",
   "language": "python",
   "name": "python3"
  },
  "language_info": {
   "codemirror_mode": {
    "name": "ipython",
    "version": 3
   },
   "file_extension": ".py",
   "mimetype": "text/x-python",
   "name": "python",
   "nbconvert_exporter": "python",
   "pygments_lexer": "ipython3",
   "version": "3.9.7"
  }
 },
 "nbformat": 4,
 "nbformat_minor": 5
}
