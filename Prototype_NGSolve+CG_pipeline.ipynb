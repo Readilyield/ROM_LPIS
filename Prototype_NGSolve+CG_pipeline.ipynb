{
 "cells": [
  {
   "cell_type": "markdown",
   "id": "63e632d8",
   "metadata": {},
   "source": [
    "## Linear Parabolic Inverse Source Problem\n",
    "## Solving the backward iterative problem by CG\n",
    "\n",
    "#### Basic test: verifying feasibility of the pipeline\n",
    "- 1.With NGSolve and standard FEM solver\n",
    "- 2.With NGSolve and the fast ROM solver\n",
    "created by: Y. Huang"
   ]
  },
  {
   "cell_type": "code",
   "execution_count": 3,
   "id": "d33948cc",
   "metadata": {
    "ExecuteTime": {
     "end_time": "2023-05-21T23:07:01.059273Z",
     "start_time": "2023-05-21T23:07:01.001814Z"
    }
   },
   "outputs": [
    {
     "name": "stdout",
     "output_type": "stream",
     "text": [
      "The autoreload extension is already loaded. To reload it, use:\n",
      "  %reload_ext autoreload\n"
     ]
    }
   ],
   "source": [
    "%load_ext autoreload\n",
    "%autoreload 2\n",
    "import sys\n",
    "sys.path.append('Utils/')\n",
    "from Inverse_Util import inverse_obj\n",
    "from Inverse_CG_Util import CG_FEM_solver, CG_ROM_solver, CG_difference\n",
    "from ngsolve import *\n",
    "from ngsolve.webgui import Draw\n",
    "import scipy.sparse as sp\n",
    "import numpy as np\n",
    "import time\n",
    "%reload_ext autoreload"
   ]
  },
  {
   "cell_type": "code",
   "execution_count": 5,
   "id": "092af9e8",
   "metadata": {
    "ExecuteTime": {
     "end_time": "2023-05-21T23:07:10.748761Z",
     "start_time": "2023-05-21T23:07:10.693960Z"
    },
    "scrolled": false
   },
   "outputs": [],
   "source": [
    "'''Initial set-up'''\n",
    "#set mesh step\n",
    "h_sz = 1/2**5\n",
    "#set Source function\n",
    "Source = sin(pi*x)*sin(pi*y)+1"
   ]
  },
  {
   "cell_type": "markdown",
   "id": "4961749c",
   "metadata": {},
   "source": [
    "### Initial Guess = Exact Source\n",
    "### $f_0 = Sin(\\pi x)Sin(\\pi y)$"
   ]
  },
  {
   "cell_type": "code",
   "execution_count": 7,
   "id": "3749f8ce",
   "metadata": {
    "ExecuteTime": {
     "end_time": "2023-05-21T23:07:27.140661Z",
     "start_time": "2023-05-21T23:07:26.893627Z"
    },
    "scrolled": false
   },
   "outputs": [
    {
     "name": "stdout",
     "output_type": "stream",
     "text": [
      "\n",
      "CG-stdFEM used 0.05826377868652344 sec\n",
      "used 1 iterations\n"
     ]
    },
    {
     "data": {
      "application/vnd.jupyter.widget-view+json": {
       "model_id": "43b2d5ac848b43698b33f0654c0f7b92",
       "version_major": 2,
       "version_minor": 0
      },
      "text/plain": [
       "WebGuiWidget(value={'ngsolve_version': '6.2.2203', 'mesh_dim': 2, 'order2d': 1, 'order3d': 1, 'draw_vol': Fals…"
      ]
     },
     "metadata": {},
     "output_type": "display_data"
    },
    {
     "name": "stdout",
     "output_type": "stream",
     "text": [
      "\n",
      "CG-FEM L2-error: 0.00028604046936718205\n"
     ]
    }
   ],
   "source": [
    "'''FEM solver'''\n",
    "\n",
    "f0 = Source\n",
    "#print(isinstance(f0,fem.CoefficientFunction))\n",
    "X = inverse_obj(h = h_sz, order = 1, dim = 1, boundary = \"bottom|left|right|top\", \n",
    "                T = 1, dt = h_sz, u0 = 0, source = Source, showSol = False)\n",
    "X.get_mesh()\n",
    "X.solve_fem(save = True)\n",
    "res_FEM = X.gfu.vec.CreateVector()\n",
    "\n",
    "result = CG_FEM_solver(X, f0, lam = 1e-9, tol2 = 1e-8)\n",
    "res_FEM.FV().NumPy()[:] = result\n",
    "gfu_2 = GridFunction(X.fes)\n",
    "gfu_2.vec.data = res_FEM\n",
    "Draw(gfu_2,X.mesh,\"approx\",order = X.ord)\n",
    "err = sqrt(Integrate((gfu_2-Source)**2, X.mesh))\n",
    "print (\"\\nCG-FEM L2-error:\", err)\n",
    "\n",
    "fem_result = result"
   ]
  },
  {
   "cell_type": "code",
   "execution_count": 9,
   "id": "acbd9496",
   "metadata": {
    "ExecuteTime": {
     "end_time": "2023-05-21T23:08:44.644012Z",
     "start_time": "2023-05-21T23:08:44.439962Z"
    }
   },
   "outputs": [
    {
     "name": "stdout",
     "output_type": "stream",
     "text": [
      "\n",
      "CG-ROM used 0.03834176063537598 sec\n",
      "used 1 iterations\n"
     ]
    },
    {
     "data": {
      "application/vnd.jupyter.widget-view+json": {
       "model_id": "c323e97af96b459cbba7bf3adc32903b",
       "version_major": 2,
       "version_minor": 0
      },
      "text/plain": [
       "WebGuiWidget(value={'ngsolve_version': '6.2.2203', 'mesh_dim': 2, 'order2d': 1, 'order3d': 1, 'draw_vol': Fals…"
      ]
     },
     "metadata": {},
     "output_type": "display_data"
    },
    {
     "name": "stdout",
     "output_type": "stream",
     "text": [
      "\n",
      "CG-ROM L2-error: 0.00028604046936718205\n"
     ]
    }
   ],
   "source": [
    "'''ROM solver'''\n",
    "f0 = Source\n",
    "#print(isinstance(f0,fem.CoefficientFunction))\n",
    "X = inverse_obj(h = h_sz, order = 1, dim = 1, boundary = \"bottom|left|right|top\", \n",
    "                T = 1, dt = h_sz, u0 = 0, source = Source, showSol = False)\n",
    "X.get_mesh()\n",
    "X.solve_rom(save = True)\n",
    "res_ROM = X.gfu.vec.CreateVector()\n",
    "\n",
    "result = CG_ROM_solver(X, f0, lam = 1e-9, tol2 = 1e-8)\n",
    "res_ROM.FV().NumPy()[:] = result\n",
    "gfu_2 = GridFunction(X.fes)\n",
    "gfu_2.vec.data = res_ROM\n",
    "Draw(gfu_2,X.mesh,\"approx\",order = X.ord)\n",
    "err = sqrt(Integrate((gfu_2-Source)**2, X.mesh))\n",
    "print (\"\\nCG-ROM L2-error:\", err)\n",
    "\n",
    "rom_result = result"
   ]
  },
  {
   "cell_type": "markdown",
   "id": "384a6c3f",
   "metadata": {},
   "source": [
    "### Initial Guess $\\neq$ Exact Source\n",
    "### $f_0 = 1, x, or x(1-x)y(1-y)$"
   ]
  },
  {
   "cell_type": "code",
   "execution_count": 11,
   "id": "1f2211ca",
   "metadata": {
    "ExecuteTime": {
     "end_time": "2023-05-21T23:09:42.666766Z",
     "start_time": "2023-05-21T23:09:42.373850Z"
    },
    "scrolled": false
   },
   "outputs": [
    {
     "name": "stdout",
     "output_type": "stream",
     "text": [
      "\n",
      "CG-stdFEM used 0.11220383644104004 sec\n",
      "used 2 iterations\n"
     ]
    },
    {
     "data": {
      "application/vnd.jupyter.widget-view+json": {
       "model_id": "dff3ab374b34403c8519c92d10b130e7",
       "version_major": 2,
       "version_minor": 0
      },
      "text/plain": [
       "WebGuiWidget(value={'ngsolve_version': '6.2.2203', 'mesh_dim': 2, 'order2d': 1, 'order3d': 1, 'draw_vol': Fals…"
      ]
     },
     "metadata": {},
     "output_type": "display_data"
    },
    {
     "name": "stdout",
     "output_type": "stream",
     "text": [
      "\n",
      "CG-FEM L2-error: 0.000294453362812851\n"
     ]
    }
   ],
   "source": [
    "'''FEM solver'''\n",
    "f0 = 1\n",
    "#f0 = x\n",
    "#f0 = x*(1-x)*y*(1-y)\n",
    "#print(isinstance(f0,fem.CoefficientFunction))\n",
    "X = inverse_obj(h = h_sz, order = 1, dim = 1, boundary = \"bottom|left|right|top\", \n",
    "                T = 1, dt = h_sz, u0 = 0, source = Source, showSol = False)\n",
    "X.get_mesh()\n",
    "X.solve_fem(save = True)\n",
    "res_FEM = X.gfu.vec.CreateVector()\n",
    "\n",
    "result = CG_FEM_solver(X, f0, lam = 1e-9, tol2 = 1e-8)\n",
    "res_FEM.FV().NumPy()[:] = result\n",
    "gfu_2 = GridFunction(X.fes)\n",
    "gfu_2.vec.data = res_FEM\n",
    "Draw(gfu_2,X.mesh,\"approx\",order = X.ord)\n",
    "err = sqrt(Integrate((gfu_2-Source)**2, X.mesh))\n",
    "print (\"\\nCG-FEM L2-error:\", err)"
   ]
  },
  {
   "cell_type": "code",
   "execution_count": 12,
   "id": "42913108",
   "metadata": {
    "ExecuteTime": {
     "end_time": "2023-05-21T23:09:48.144463Z",
     "start_time": "2023-05-21T23:09:47.928562Z"
    }
   },
   "outputs": [
    {
     "name": "stdout",
     "output_type": "stream",
     "text": [
      "\n",
      "CG-ROM used 0.06135129928588867 sec\n",
      "used 3 iterations\n"
     ]
    },
    {
     "data": {
      "application/vnd.jupyter.widget-view+json": {
       "model_id": "dba0e53856834bae9dfe8a9ee3a1270c",
       "version_major": 2,
       "version_minor": 0
      },
      "text/plain": [
       "WebGuiWidget(value={'ngsolve_version': '6.2.2203', 'mesh_dim': 2, 'order2d': 1, 'order3d': 1, 'draw_vol': Fals…"
      ]
     },
     "metadata": {},
     "output_type": "display_data"
    },
    {
     "name": "stdout",
     "output_type": "stream",
     "text": [
      "\n",
      "CG-ROM L2-error: 0.0002938833606339267\n"
     ]
    }
   ],
   "source": [
    "'''ROM solver'''\n",
    "f0 = 1\n",
    "#f0 = x\n",
    "#f0 = x*(1-x)*y*(1-y)\n",
    "#print(isinstance(f0,fem.CoefficientFunction))\n",
    "X = inverse_obj(h = h_sz, order = 1, dim = 1, boundary = \"bottom|left|right|top\", \n",
    "                T = 1, dt = h_sz, u0 = 0, source = Source, showSol = False)\n",
    "X.get_mesh()\n",
    "X.solve_rom(save = True)\n",
    "res_ROM = X.gfu.vec.CreateVector()\n",
    "\n",
    "result = CG_ROM_solver(X, f0, lam = 1e-9, tol2 = 1e-8)\n",
    "res_ROM.FV().NumPy()[:] = result\n",
    "gfu_2 = GridFunction(X.fes)\n",
    "gfu_2.vec.data = res_ROM\n",
    "Draw(gfu_2,X.mesh,\"approx\",order = X.ord)\n",
    "err = sqrt(Integrate((gfu_2-Source)**2, X.mesh))\n",
    "print (\"\\nCG-ROM L2-error:\", err)"
   ]
  },
  {
   "cell_type": "markdown",
   "id": "be536ef4",
   "metadata": {},
   "source": [
    "### Measuring differences between FEM and ROM results"
   ]
  },
  {
   "cell_type": "code",
   "execution_count": 13,
   "id": "736c2e1f",
   "metadata": {
    "ExecuteTime": {
     "end_time": "2023-05-21T23:09:54.883763Z",
     "start_time": "2023-05-21T23:09:53.329296Z"
    }
   },
   "outputs": [
    {
     "name": "stdout",
     "output_type": "stream",
     "text": [
      "uT diff =  1.0711450252204235e-12\n",
      "u0 fem =  0.7148710481110216\n",
      "u0 diff =  1.0262426943566415e-12\n",
      "f0 diff =  0.0\n",
      "p0 fem =  0.00873994820151011\n",
      "p0 = r0 diff =  2.70254529376716e-10\n",
      "\n",
      " Start iterating: \n",
      "\n",
      "u1 fem =  0.0004206822134446615\n",
      "u1 diff =  6.4263071213547975e-12\n",
      "p1 fem =  2.110764816525624e-05\n",
      "p1 diff =  1.7795050853118085e-09\n",
      "r1 fem =  2.110765654491169e-05\n",
      "r1 diff =  1.779505085169961e-09\n",
      "\n",
      "p0 diff =  2.70254529376716e-10\n",
      "r0 diff =  2.70254529376716e-10\n",
      "a-b 1.4333518003216872e-18\n",
      "c-d 2.609911816285621e-15\n",
      "denom: 1.5335539358043258e-10 1.533527836686163e-10\n",
      "430.66788821258206 430.6752177609398\n",
      "\n",
      "alpha diff =  0.007329548357745352\n",
      "beta diff =  5.168080742042058e-05\n",
      "p0 fem =  0.0026956969619022714\n",
      "\n",
      " f0 diff =  6.406357071100264e-05\n",
      "u1 fem =  5.323218811963537e-05\n",
      "u1 diff =  1.8765894333994246e-08\n",
      "p1 fem =  1.1156639050693966e-06\n",
      "p1 diff =  3.4020418681629207e-10\n",
      "r1 fem =  1.1156664495101062e-06\n",
      "r1 diff =  3.402050693613831e-10\n",
      "\n",
      "p0 diff =  9.183244214228014e-07\n",
      "r0 diff =  7.928571057767178e-07\n",
      "a-b 3.413271632825557e-12\n",
      "c-d 1.484871223072822e-15\n",
      "denom: 2.396710949546138e-12 2.3981958207692107e-12\n",
      "2353.7464758543792 2353.712392409286\n",
      "\n",
      "alpha diff =  0.03408344509307426\n",
      "beta diff =  7.717927784534062e-06\n",
      "p0 fem =  0.0005276408339254199\n",
      "\n",
      " f0 diff =  0.0021073628313368676\n",
      "u1 fem =  5.1383002412613596e-06\n",
      "u1 diff =  1.1448850099088087e-08\n",
      "p1 fem =  5.2334918048505427e-08\n",
      "p1 diff =  5.750650537789961e-10\n",
      "r1 fem =  5.2335422507368177e-08\n",
      "r1 diff =  5.750652841208242e-10\n",
      "\n",
      "p0 diff =  2.536711296310472e-07\n",
      "r0 diff =  2.6207607616910524e-07\n",
      "a-b 9.620398299268619e-14\n",
      "c-d 9.570922055812252e-18\n",
      "denom: 2.3064017569268334e-14 2.3073588491324146e-14\n",
      "10015.684987326355 10015.699923999233\n",
      "\n",
      "alpha diff =  0.014936672878320678\n",
      "beta diff =  0.00010670781311534344\n",
      "p0 fem =  0.00011220362639866865\n",
      "\n",
      " f0 diff =  0.0030561918186183387\n",
      "u1 fem =  6.521100218474049e-07\n",
      "u1 diff =  2.7897989984305187e-07\n",
      "p1 fem =  4.305836551437046e-09\n",
      "p1 diff =  1.4124689664716873e-08\n",
      "r1 fem =  4.305935334079086e-09\n",
      "r1 diff =  1.4124695175079625e-08\n",
      "\n",
      "p0 diff =  5.510752262276525e-06\n",
      "r0 diff =  5.522148496352068e-06\n",
      "a-b 2.883338556113663e-14\n",
      "c-d 6.739089470126807e-17\n",
      "denom: 3.5795925479767955e-16 4.253501494989476e-16\n",
      "27994.961463917734 23627.331367141673\n",
      "\n",
      "alpha diff =  4367.630096776062\n",
      "beta diff =  9.266065147360727\n",
      "p0 fem =  5.8484549769469035e-05\n",
      "\n",
      " f0 diff =  0.5051366003525227\n",
      "u1 fem =  3.23903782268846e-07\n",
      "u1 diff =  1.5242355247628046e-05\n",
      "p1 fem =  3.5982784565931548e-09\n",
      "p1 diff =  7.077804771128516e-07\n",
      "r1 fem =  3.598307661719766e-09\n",
      "r1 diff =  7.077807993497201e-07\n",
      "\n",
      "p0 diff =  0.0010903077400827932\n",
      "r0 diff =  0.0003286690260793803\n",
      "a-b 9.312945152458814e-11\n",
      "c-d 2.012422183497148e-13\n",
      "denom: 8.729523742428698e-17 2.0132951358713907e-13\n",
      "25982.034999627 473.8379273804629\n",
      "\n",
      "alpha diff =  25508.197072246538\n",
      "beta diff =  2.209176357026298\n",
      "p0 fem =  0.00015210087899394565\n",
      "\n",
      " f0 diff =  1.4904760261017413\n",
      "u1 fem =  1.2894970688881166e-06\n",
      "u1 diff =  1.3068597458674696e-06\n",
      "p1 fem =  2.309548801839757e-08\n",
      "p1 diff =  2.5549044948778495e-08\n",
      "r1 fem =  2.3095559717461228e-08\n",
      "r1 diff =  2.5549111541047587e-08\n",
      "\n",
      "p0 diff =  0.0001049316566633123\n",
      "r0 diff =  9.248315752877106e-05\n",
      "a-b 2.81079249113529e-12\n",
      "c-d 1.3208071554744545e-15\n",
      "denom: 1.4039761995813695e-15 8.316904410691505e-17\n",
      "3607.060080423851 27094.624405482333\n",
      "\n",
      "alpha diff =  23487.564325058484\n",
      "beta diff =  1.746204102293369\n",
      "p0 fem =  3.959915566616025e-05\n",
      "\n",
      " f0 diff =  0.4448423449542435\n",
      "u1 fem =  1.5671972417376965e-07\n",
      "u1 diff =  1.2318235855250288e-06\n",
      "p1 fem =  8.636451781029424e-10\n",
      "p1 diff =  2.571407515295214e-08\n",
      "r1 fem =  8.636736504012013e-10\n",
      "r1 diff =  2.5714133373031464e-08\n",
      "\n",
      "p0 diff =  0.00011201303992174653\n",
      "r0 diff =  7.621135110357958e-05\n",
      "a-b 3.491735415858567e-12\n",
      "c-d 1.2467979485190892e-15\n",
      "denom: 2.0259968949277562e-17 1.2670579174683668e-15\n",
      "39415.333502744084 3386.024261086465\n",
      "\n",
      "alpha diff =  36029.30924165762\n",
      "beta diff =  0.26425015500340165\n",
      "p0 fem =  1.6194791485431646e-05\n",
      "\n",
      " f0 diff =  1.5485007742695658\n",
      "u1 fem =  9.94622217620332e-08\n",
      "u1 diff =  1.8479034881394691e-06\n",
      "p1 fem =  1.1876143769921735e-09\n",
      "p1 diff =  9.115027305952511e-08\n",
      "r1 fem =  1.1876226215626279e-09\n",
      "r1 diff =  9.115031136989509e-08\n",
      "\n",
      "p0 diff =  7.417324713492805e-05\n",
      "r0 diff =  5.048728260517432e-05\n",
      "a-b 1.8403466122324277e-12\n",
      "c-d 2.938834992240294e-15\n",
      "denom: 8.370020696432745e-18 2.9472050129367265e-15\n",
      "19307.790062939148 679.2717866161511\n",
      "\n",
      "alpha diff =  18628.518276322997\n",
      "beta diff =  1.0868348905232441\n",
      "p0 fem =  3.416599665327404e-05\n",
      "\n",
      " f0 diff =  1.6879225049491644\n",
      "u1 fem =  8.52478520030501e-08\n",
      "u1 diff =  2.77153480091892e-07\n",
      "p1 fem =  4.27728843038708e-10\n",
      "p1 diff =  1.8860118277393885e-09\n",
      "r1 fem =  4.277459854876428e-10\n",
      "r1 diff =  1.8860520796981207e-09\n",
      "\n",
      "p0 diff =  6.006930208077246e-05\n",
      "r0 diff =  4.3513688174620894e-05\n",
      "a-b 1.0435335010813725e-12\n",
      "c-d 5.21976106888503e-17\n",
      "denom: 5.950549847884082e-18 5.814816053673438e-17\n",
      "47508.06557715165 22807.817155917222\n",
      "\n",
      "alpha diff =  24700.248421234424\n",
      "beta diff =  0.09281211605304836\n",
      "p0 fem =  1.1157253037074594e-05\n",
      "\n",
      " f0 diff =  1.8789678892427482\n",
      "u1 fem =  7.613318952006478e-08\n",
      "u1 diff =  9.867713176142418e-08\n",
      "p1 fem =  3.370071772758111e-09\n",
      "p1 diff =  1.5270295265396713e-09\n",
      "r1 fem =  3.370073528210947e-09\n",
      "r1 diff =  1.527035981729518e-09\n",
      "\n",
      "p0 diff =  1.3038801630474115e-05\n",
      "r0 diff =  1.564473064387981e-05\n",
      "a-b 9.299854012728834e-14\n",
      "c-d 3.621961152085819e-18\n",
      "denom: 4.905349058809918e-18 8.527310210895737e-18\n",
      "11933.8557110099 17770.93412335776\n",
      "\n",
      "alpha diff =  5837.0784123478625\n",
      "beta diff =  12.689080564248997\n",
      "p0 fem =  0.0002590890110914999\n",
      "\n",
      " f0 diff =  1.7223625432895628\n",
      "u1 fem =  9.523870523443238e-07\n",
      "u1 diff =  1.5978996278692631e-06\n",
      "p1 fem =  2.2615607546674676e-08\n",
      "p1 diff =  5.623696116682728e-08\n",
      "r1 fem =  2.261564689933923e-08\n",
      "r1 diff =  5.623700892558009e-08\n",
      "\n",
      "p0 diff =  0.00021154238706573447\n",
      "r0 diff =  1.7190964634439214e-05\n",
      "a-b 2.0982751814385706e-13\n",
      "c-d 1.800478495655063e-15\n",
      "denom: 7.654535364701368e-16 2.5659320321251995e-15\n",
      "1753.829202655812 604.9662517349201\n",
      "\n",
      "alpha diff =  1148.8629509208918\n",
      "beta diff =  0.2227839047005253\n",
      "p0 fem =  9.028097629761593e-06\n",
      "\n",
      " f0 diff =  1.9735783322964493\n",
      "u1 fem =  3.438507611882635e-08\n",
      "u1 diff =  1.2305245423327665e-07\n",
      "p1 fem =  3.113260582024361e-10\n",
      "p1 diff =  7.679096511041197e-10\n",
      "r1 fem =  3.113298680174373e-10\n",
      "r1 diff =  7.679292504991007e-10\n",
      "\n",
      "p0 diff =  4.3329181666859735e-05\n",
      "r0 diff =  2.21218891713022e-05\n",
      "a-b 3.5091256912185836e-13\n",
      "c-d 1.0514982115236403e-17\n",
      "denom: 9.727681215965187e-19 1.1487750236832922e-17\n",
      "33441.94936326922 33378.49652728905\n",
      "\n",
      "alpha diff =  63.452835980169766\n",
      "beta diff =  1.5990852929328314\n",
      "p0 fem =  1.8151787814396262e-05\n",
      "\n",
      " f0 diff =  0.8120320197398436\n",
      "u1 fem =  3.839342337584826e-08\n",
      "u1 diff =  1.2607107160655803e-07\n",
      "p1 fem =  1.845387751959287e-10\n",
      "p1 diff =  5.3477199609721656e-09\n",
      "r1 fem =  1.84546750205771e-10\n",
      "r1 diff =  5.34772285846651e-09\n",
      "\n",
      "p0 diff =  1.4415784923935729e-05\n",
      "r0 diff =  1.2076816563180195e-05\n",
      "a-b 6.750329484487388e-15\n",
      "c-d 1.1360806428927219e-17\n",
      "denom: 1.1961604632460391e-18 1.2556966892173259e-17\n",
      "48044.2030541965 5114.205223086907\n",
      "\n",
      "alpha diff =  42929.99783110959\n",
      "beta diff =  8.979020975749048\n",
      "p0 fem =  4.020238303341768e-06\n",
      "\n",
      " f0 diff =  1.5361847515921845\n",
      "u1 fem =  7.743906819048715e-09\n",
      "u1 diff =  6.285966973835869e-07\n",
      "p1 fem =  3.2500582541608685e-11\n",
      "p1 diff =  1.7872302061825467e-08\n",
      "r1 fem =  3.250241750093063e-11\n",
      "r1 diff =  1.7872324686713883e-08\n",
      "\n",
      "p0 diff =  0.00011084983813848487\n",
      "r0 diff =  2.6329355393009592e-05\n",
      "a-b 5.775295414922745e-13\n",
      "c-d 3.2605948718301065e-16\n",
      "denom: 4.894366964900349e-20 3.2610843085265966e-16\n",
      "157704.48404882013 1794.642892646188\n",
      "\n",
      "alpha diff =  155909.84115617393\n",
      "beta diff =  1.324272018467879\n",
      "p0 fem =  8.554768243364277e-06\n",
      "\n",
      " f0 diff =  1.8334977482427046\n",
      "u1 fem =  2.34873934644477e-08\n",
      "u1 diff =  2.4012406959289855e-07\n",
      "p1 fem =  1.625792057081448e-10\n",
      "p1 diff =  3.2099633289376177e-09\n",
      "r1 fem =  1.6258261078947812e-10\n",
      "r1 diff =  3.2099810476765833e-09\n",
      "\n",
      "p0 diff =  5.69537289766664e-05\n",
      "r0 diff =  1.9074401105193795e-05\n",
      "a-b 2.796510612174426e-13\n",
      "c-d 4.775125909212068e-17\n",
      "denom: 4.5409130541749765e-19 4.820535039753818e-17\n",
      "31041.55119308792 6093.654693896748\n",
      "\n",
      "alpha diff =  24947.89649919117\n",
      "beta diff =  0.40406767383493636\n",
      "p0 fem =  5.341445792960678e-06\n",
      "\n",
      " f0 diff =  1.7825340331559423\n",
      "u1 fem =  7.995582884691001e-09\n",
      "u1 diff =  3.517905342863218e-08\n",
      "p1 fem =  2.4557334407936164e-11\n",
      "p1 diff =  1.0457447640189832e-09\n",
      "r1 fem =  2.4559937675530417e-11\n",
      "r1 diff =  1.0457459348069915e-09\n",
      "\n",
      "p0 diff =  7.959488924776109e-06\n",
      "r0 diff =  6.668157506738491e-06\n",
      "a-b 2.2340485149999582e-14\n",
      "c-d 9.292195085158857e-19\n",
      "denom: 5.087928080633011e-20 9.800987893222158e-19\n",
      "139718.25709833263 30047.225756744592\n",
      "\n",
      "alpha diff =  109671.03134158804\n",
      "beta diff =  27.56275166878401\n",
      "p0 fem =  2.6663623849204524e-06\n",
      "\n",
      " f0 diff =  2.14314185976874\n",
      "u1 fem =  4.820583079677603e-09\n",
      "u1 diff =  1.2137586762244594e-06\n"
     ]
    },
    {
     "name": "stdout",
     "output_type": "stream",
     "text": [
      "p1 fem =  1.6757011514580657e-11\n",
      "p1 diff =  4.9158075986548555e-08\n",
      "r1 fem =  1.6758405125966294e-11\n",
      "r1 diff =  4.915810618748375e-08\n",
      "\n",
      "p0 diff =  0.00024132720103248794\n",
      "r0 diff =  3.093775963670815e-05\n",
      "a-b 8.196114183448355e-13\n",
      "c-d 1.2563410578896738e-15\n",
      "denom: 1.87428694723895e-20 1.2563598007591463e-15\n",
      "134273.58850022373 654.3731263853871\n",
      "\n",
      "alpha diff =  133619.21537383835\n",
      "beta diff =  0.5735390151397595\n",
      "p0 fem =  2.3576461818011426e-06\n",
      "\n",
      " f0 diff =  2.270247868199371\n",
      "iteration num =  17\n",
      "\n",
      "CG-diff used 1.2504000663757324 sec\n"
     ]
    },
    {
     "data": {
      "text/plain": [
       "0"
      ]
     },
     "execution_count": 13,
     "metadata": {},
     "output_type": "execute_result"
    }
   ],
   "source": [
    "h_x = 1/2**5\n",
    "#set Source fucntion\n",
    "Source = sin(pi*x)*sin(pi*y)\n",
    "f0 = x #f(x) = x\n",
    "X_fem = inverse_obj(h = h_x, order = 1, dim = 1, boundary = \"bottom|left|right|top\", \n",
    "                T = 1, dt = h_x, u0 = 0, source = Source, showSol = False)\n",
    "X_fem.get_mesh()\n",
    "X_fem.solve_fem(save = True)\n",
    "X_rom = inverse_obj(h = h_x, order = 1, dim = 1, boundary = \"bottom|left|right|top\", \n",
    "                T = 1, dt = h_x, u0 = 0, source = Source, showSol = False)\n",
    "X_rom.get_mesh()\n",
    "X_rom.solve_rom(save = True)\n",
    "\n",
    "CG_difference(X_fem, X_rom, f0, l = 50, lam = 1e-9, withM = True, tol2 = 1e-7)"
   ]
  },
  {
   "cell_type": "code",
   "execution_count": null,
   "id": "c2b65b76",
   "metadata": {},
   "outputs": [],
   "source": []
  }
 ],
 "metadata": {
  "kernelspec": {
   "display_name": "Python 3 (ipykernel)",
   "language": "python",
   "name": "python3"
  },
  "language_info": {
   "codemirror_mode": {
    "name": "ipython",
    "version": 3
   },
   "file_extension": ".py",
   "mimetype": "text/x-python",
   "name": "python",
   "nbconvert_exporter": "python",
   "pygments_lexer": "ipython3",
   "version": "3.9.7"
  }
 },
 "nbformat": 4,
 "nbformat_minor": 5
}
